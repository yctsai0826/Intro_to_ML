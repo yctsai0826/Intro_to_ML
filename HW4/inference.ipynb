{
 "cells": [
  {
   "cell_type": "markdown",
   "metadata": {
    "id": "Wh1TrRFzibsr"
   },
   "source": [
    "**Kaggle Submission Reproduction**\n",
    "\n",
    "1. Upload file `111550035_HW4/`  to google drive\n",
    "2. Put `data/` under directory `111550035_HW4/`\n",
    "3. Download the weights provided in `111550035_weight.txt` and put the whole file (`model/`) under `111550035_HW4/`\n",
    "4. Run the following cells\n"
   ]
  },
  {
   "cell_type": "code",
   "execution_count": null,
   "metadata": {
    "id": "rE7Mns-NiIgE"
   },
   "outputs": [],
   "source": [
    "from google.colab import drive\n",
    "drive.mount('/content/drive', force_remount=True)"
   ]
  },
  {
   "cell_type": "code",
   "execution_count": null,
   "metadata": {
    "id": "lyoM-i7AjUOT"
   },
   "outputs": [],
   "source": [
    "%cd drive/MyDrive/111550035_HW4/"
   ]
  },
  {
   "cell_type": "markdown",
   "metadata": {
    "id": "oOWTQs4Fj5xZ"
   },
   "source": [
    "**Run `!python test.py` to reproduce the kaggle submission**"
   ]
  },
  {
   "cell_type": "code",
   "execution_count": null,
   "metadata": {
    "id": "_yMhcr5ljZEB"
   },
   "outputs": [],
   "source": [
    "!python test.py"
   ]
  },
  {
   "cell_type": "markdown",
   "metadata": {
    "id": "5lF54i7fkJOL"
   },
   "source": [
    "**Run `!python train.py` to produce your own model**\n",
    "\n",
    "You can choose your model backbone (ResNet18 / ResNet50)"
   ]
  },
  {
   "cell_type": "code",
   "execution_count": null,
   "metadata": {},
   "outputs": [],
   "source": [
    "!python train_ResNet18.py"
   ]
  },
  {
   "cell_type": "code",
   "execution_count": null,
   "metadata": {
    "id": "_huUBCPPkP7h"
   },
   "outputs": [],
   "source": [
    "!python train_ResNet50.py"
   ]
  },
  {
   "cell_type": "markdown",
   "metadata": {
    "id": "8apILwRekDP1"
   },
   "source": []
  }
 ],
 "metadata": {
  "colab": {
   "provenance": []
  },
  "kernelspec": {
   "display_name": "Python 3",
   "name": "python3"
  },
  "language_info": {
   "name": "python"
  }
 },
 "nbformat": 4,
 "nbformat_minor": 0
}
